{
  "nbformat": 4,
  "nbformat_minor": 0,
  "metadata": {
    "colab": {
      "name": "ChooseInterests.ipynb",
      "provenance": []
    },
    "kernelspec": {
      "name": "python3",
      "display_name": "Python 3"
    },
    "language_info": {
      "name": "python"
    }
  },
  "cells": [
    {
      "cell_type": "code",
      "metadata": {
        "id": "a89kiThSfrqf"
      },
      "source": [
        "def getInterests():\n",
        "  m_interests = []  \n",
        "  print (\"What are your interests? Select up to three.\")\n",
        "  for x in range(3):\n",
        "    print ('Select a number')\n",
        "    interest_x = input (\"1)Tech 2)Politics 3)Art 4)Sports 5)Music 6)History 7)Literature 8)Life Science 9)Law 10)Education\")\n",
        "    if interest_x == \"1\":\n",
        "        m_interests.append('Tech')\n",
        "    elif interest_x == \"2\":\n",
        "        m_interests.append('Politics')\n",
        "    elif interest_x == \"3\":\n",
        "        m_interests.append('Art')\n",
        "    elif interest_x == \"4\":\n",
        "        m_interests.append('Sports')\n",
        "    elif interest_x == \"5\":\n",
        "        m_interests.append('Music')\n",
        "    elif interest_x == \"6\":\n",
        "        m_interests.append('History')\n",
        "    elif interest_x == \"7\":\n",
        "        m_interests.append('Literature')\n",
        "    elif interest_x == \"8\":\n",
        "        m_interests.append('Life Science')\n",
        "    elif interest_x == \"9\":\n",
        "        m_interests.append('Law')\n",
        "    elif interest_x == \"10\":\n",
        "        m_interests.append('Education')\n",
        "    if x < 2:\n",
        "        m_interests[x] += (', ')\n",
        "      \n",
        "     \n",
        "  print ('These are the interests you have selected:')\n",
        "  for x in m_interests: \n",
        "    print(x)\n",
        "  return m_interests"
      ],
      "execution_count": 12,
      "outputs": []
    },
    {
      "cell_type": "code",
      "metadata": {
        "colab": {
          "base_uri": "https://localhost:8080/"
        },
        "id": "PnemW6oTkfB9",
        "outputId": "0ce6a6dc-1e9d-4012-9e72-d0ce7f84a7d9"
      },
      "source": [
        "getInterests()"
      ],
      "execution_count": 13,
      "outputs": [
        {
          "output_type": "stream",
          "text": [
            "What are your interests? Select up to three.\n",
            "Select a number\n",
            "1)Tech 2)Politics 3)Art 4)Sports 5)Music 6)History 7)Literature 8)Life Science 9)Law 10)Education10\n",
            "Select a number\n",
            "1)Tech 2)Politics 3)Art 4)Sports 5)Music 6)History 7)Literature 8)Life Science 9)Law 10)Education3\n",
            "Select a number\n",
            "1)Tech 2)Politics 3)Art 4)Sports 5)Music 6)History 7)Literature 8)Life Science 9)Law 10)Education4\n",
            "These are the interests you have selected:\n",
            "Education, \n",
            "Art, \n",
            "Sports\n"
          ],
          "name": "stdout"
        },
        {
          "output_type": "execute_result",
          "data": {
            "text/plain": [
              "['Education, ', 'Art, ', 'Sports']"
            ]
          },
          "metadata": {
            "tags": []
          },
          "execution_count": 13
        }
      ]
    }
  ]
}