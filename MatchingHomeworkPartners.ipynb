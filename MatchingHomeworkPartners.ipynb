{
  "nbformat": 4,
  "nbformat_minor": 0,
  "metadata": {
    "colab": {
      "name": "MatchingHomeworkPartners.ipynb",
      "provenance": []
    },
    "kernelspec": {
      "display_name": "Python 3",
      "name": "python3"
    },
    "language_info": {
      "name": "python"
    }
  },
  "cells": [
    {
      "cell_type": "markdown",
      "metadata": {
        "id": "VO4vtcQy4V6V"
      },
      "source": [
        "Students should only look for a match once they've attempted all problems in the homework. \n",
        "\n",
        "1. \n",
        "  Homework problem difficulty: \n",
        "  (1) I completed this problem, and I'm very confident in both my process and correctness of my answer\n",
        "  (2) I completed this problem, and I'm very confident in my process and fairly confident correctness of my answer. \n",
        "  (3) I attempted this problem, and I'm fairly confident in my process, but unsure about the correctness of my answer.\n",
        "  (4) I attempted this problem, but I'm unsure about both my process and correctness of my answer.\n",
        "\n",
        "2. Criteria of compatibility: \n",
        "  - First criteria: Students have a time to meet before the due date where they are both available. \n",
        "  - Best case(3 compatibility points): Student A really struggled with question (difficulty = 4) that Student B found really easy (difficulty = 1). Difference of 3 between ratings \n",
        "  - Next best case (2 compatibility point): difference of 2 between ratings\n",
        "  - Next best case (1 compatability point): Student A and Student B both found the problem to be about the same difficulty (difference of 1 between ratings). \n",
        "  - Next best case(.5 compatibility point): If Student A and Student B rated the problem the same, and the rating is 2 or 3. \n",
        "\n",
        "3. Student A prompted with \"Would you like to invite Student B to meet at (next mutually available time) to discuss the homework?\" for at least top 1 and at most top 3 most compatable matches. Their homework understanding will also be shared with the other student. \n",
        "\n",
        "The student can remove themselves from the spreadsheet for matching at any time. They can also update their difficulty ratings. \n",
        "\n",
        "Once the due date has passed, data from spreadsheet will be organized visually for the instructor \n",
        "-Bar chart w answers"
      ]
    },
    {
      "cell_type": "code",
      "metadata": {
        "id": "PRbLZ326LrYt"
      },
      "source": [
        "#Define Student class. \n",
        "class Student:\n",
        "  def __init__(self, name, email, problemDifficulty, availability):\n",
        "    self.name = name\n",
        "    self.email = email \n",
        "    self.problemDifficulty = problemDifficulty\n",
        "    self.availability = availability "
      ],
      "execution_count": null,
      "outputs": []
    },
    {
      "cell_type": "code",
      "metadata": {
        "id": "uPn5zxLbN835"
      },
      "source": [
        "#COMPATIBILITY RATING \n",
        "#Define compatableStudent class. \n",
        "class compatibleStudent: \n",
        "  def __init__(self, name, email, mutualAvailability, compatibilityScore, problemDifficulty): \n",
        "      self.name = name \n",
        "      self.email = email \n",
        "      self.mutualAvailability = mutualAvailability\n",
        "      self.compatibilityScore = compatibilityScore \n",
        "      self.problemDifficulty = problemDifficulty \n",
        "\n",
        "#Define function to score compatibility. \n",
        "def scoreCompatibility(a,b): \n",
        "  if abs(b-a) == 3: \n",
        "    return 3 \n",
        "  if abs(b-a) == 2: \n",
        "    return 2 \n",
        "  if abs(b-a) == 1: \n",
        "    return 1\n",
        "  if a == b & (b == 2 | b == 3):\n",
        "    return .5\n",
        "  else:\n",
        "    return 0;\n",
        "\n",
        "#Define helper function \n",
        "def dayAndTime(i, j): \n",
        "  day = ''\n",
        "  time = ''\n",
        "  if i == 0:\n",
        "    day = 'Monday'\n",
        "  if i == 1:\n",
        "    day = 'Tuesday'\n",
        "  if i == 2:\n",
        "    day = 'Wednesday'\n",
        "  if i == 3: \n",
        "    day = 'Thursday'\n",
        "  if i == 4: \n",
        "    day = 'Friday'\n",
        "  if i == 5: \n",
        "    day = 'Saturday'\n",
        "  if i == 6: \n",
        "    day = 'Sunday'\n",
        "  hour = j/2 - j%2*.5\n",
        "  min = j%2 * 30\n",
        "  if hour > 12:\n",
        "    hour = hour - 12\n",
        "  time = str(hour) + ':' + str(min)\n",
        "  return str(day) + ', ' + time \n",
        "\n",
        "#If there is no time with mutual availability, move to next student. \n",
        "#Find all times with mutual availability.\n",
        "#Generate compatibility score.\n",
        "#Create new Compatibility object and add it to the compatibility rating list. \n",
        "#Return list of Compatable students\n",
        "def listCompatibleStudents(m_student, m_studentList, numberOfProbs):\n",
        "  m_listCompatibility = []\n",
        "  for x in m_studentList: \n",
        "    m_mutualAvailability = []\n",
        "    m_compatibilityScore = 0\n",
        "    for a in range(7): #for each day \n",
        "      for b in range(len(m_student.availability[a])): #for each time in the day \n",
        "        if (m_student.availability[a][b] == 1 #if student A is free \n",
        "            & x.availability[a][b] == 1): #and student B is free \n",
        "          m_mutualAvailability.append(dayAndTime(a,b)) \n",
        "      if len(m_mutualAvailability) == 0: #If there is no time with mutual availability, move to next student. \n",
        "        continue \n",
        "    for c in range(numberOfProbs):\n",
        "      m_compatibilityScore += scoreCompatibility(m_student.problemDifficulty[c], x.problemDifficulty[c])\n",
        "    newCompatibleStudent = compatibleStudent(x.name, x.email, m_mutualAvailability, m_compatibilityScore, x.problemDifficulty) \n",
        "    m_listCompatibility.append(newCompatibleStudent)\n",
        "\n",
        "  return m_listCompatibility"
      ],
      "execution_count": null,
      "outputs": []
    },
    {
      "cell_type": "markdown",
      "metadata": {
        "id": "I-byRpDdoMEy"
      },
      "source": [
        ""
      ]
    },
    {
      "cell_type": "code",
      "metadata": {
        "id": "vijESkaKQWMV"
      },
      "source": [
        "#Find (up to) the top 3 compatibility scores. Return list of these students with their mutual availabilities. \n",
        "def findBestMatch(m_compatibilityList): \n",
        "  bestMatchListScores = []\n",
        "  bestMatchList = []\n",
        "  for x in range(len(m_compatibilityList)):\n",
        "    bestMatchListScores.append(m_compatibilityList[x].compatibilityScore)\n",
        "  bestMatchListScores.sort(reverse = True)\n",
        "  for j in range (3): \n",
        "    if j < len(bestMatchListScores):\n",
        "      for q in m_compatibilityList:\n",
        "          if q.compatibilityScore == bestMatchListScores[j]: \n",
        "            bestMatchList.append(q)\n",
        "            m_compatibilityList.remove(q)\n",
        "            break\n",
        "  return bestMatchList "
      ],
      "execution_count": null,
      "outputs": []
    },
    {
      "cell_type": "code",
      "metadata": {
        "id": "JlEvFV48Q3ZL"
      },
      "source": [
        "#Prompt student with email address and (up to) next 3 mutual available times to meet for each student they matched with. \n",
        "#Also present that student's problem difficulty. \n",
        "def promptStudent(m_student, m_studentList, numberOfProbs): \n",
        "    bestMatches = findBestMatch(listCompatibleStudents(m_student, m_studentList, numberOfProbs))\n",
        "    for x in bestMatches:\n",
        "      print ('Do you want discuss homework with ' + x.name + '? They are available at') \n",
        "      for w in range(3):\n",
        "        print(x.mutualAvailability[w])\n",
        "      print ('This is how ' + x.name + ' felt about this assignment:')\n",
        "      for y in x.problemDifficulty:\n",
        "        i = 1 \n",
        "        print ('Problem #' + str(i) + ' difficulty:' + str(y))\n",
        "        i = i + 1\n",
        "      print ('Email ' + x.name + ' at ' + x.email)"
      ],
      "execution_count": null,
      "outputs": []
    },
    {
      "cell_type": "code",
      "metadata": {
        "id": "Xli77AKpSGEg"
      },
      "source": [
        "#Sample data. \n",
        "#For a 6 problem homework set, 10 students have already submitted their difficulty ratings \n",
        "problemDifficulty1 = [1, 2, 3, 4, 2, 2]\n",
        "problemDifficulty2 = [1, 1, 1, 4, 4, 4]\n",
        "problemDifficulty3 = [4, 4, 4, 1, 1, 1]\n",
        "problemDifficulty4 = [3, 2, 3, 2, 3, 2]\n",
        "problemDifficulty5 = [1, 4, 3, 2, 1, 4]\n",
        "\n",
        "#Availability is formatted as such: \n",
        "#[day of week][30 min interval starting from 7:00 am to 12:00 pm]\n",
        "#i.e. Monday at 7:00 am would be [0][0]\n",
        "#Thursday at 12:00 pm would be [3][10] \n",
        "#1 = available, 0 = unavailable\n",
        "availability1 = [\n",
        "                 [1,0,0,0,0,0,0,0,0,1,1,1,0,1,1,0,1,1,1,1,1,0,1,0,0,0,1,1,1,0,1,1,0,1],\n",
        "                 [1,0,0,0,0,0,0,0,0,1,1,1,0,1,1,0,1,1,1,1,1,0,1,0,0,0,1,1,1,0,1,1,0,1],\n",
        "                 [1,0,0,0,0,0,0,0,0,1,1,1,0,1,1,0,1,1,1,1,1,0,1,0,0,0,1,1,1,0,1,1,0,1],\n",
        "                 [1,0,0,0,0,0,0,0,0,1,1,1,0,1,1,0,1,1,1,1,1,0,1,0,0,0,1,1,1,0,1,1,0,1],\n",
        "                 [1,0,0,0,0,0,0,0,0,1,1,1,0,1,1,0,1,1,1,1,1,0,1,0,0,0,1,1,1,0,1,1,0,1], \n",
        "                 [1,0,0,0,0,0,0,0,0,1,1,1,0,1,1,0,1,1,1,1,1,0,1,0,0,0,1,1,1,0,1,1,0,1],\n",
        "                 [1,0,0,0,0,0,0,0,0,1,1,1,0,1,1,0,1,1,1,1,1,0,1,0,0,0,1,1,1,0,1,1,0,1]\n",
        "                ]\n",
        "availability2 = [\n",
        "                 [1,1,1,0,0,0,0,0,0,1,1,1,0,1,1,0,1,1,1,1,1,0,1,0,0,0,1,1,1,0,1,1,0,1],\n",
        "                 [1,1,0,1,0,0,0,0,0,1,1,1,0,1,0,0,1,1,1,1,1,0,1,0,0,0,1,1,1,0,1,1,0,1],\n",
        "                 [1,1,0,0,0,0,0,0,0,1,1,1,1,1,1,0,1,1,1,1,1,0,1,0,0,0,1,1,1,0,1,1,0,1],\n",
        "                 [1,0,0,0,0,1,1,1,0,1,1,1,0,1,1,0,1,1,1,1,1,1,1,1,1,0,1,1,1,0,1,1,0,1],\n",
        "                 [1,1,1,1,0,0,0,0,0,1,1,1,0,1,1,0,1,1,1,1,1,0,1,0,0,0,0,1,1,0,1,1,0,1], \n",
        "                 [1,1,1,1,1,0,0,0,1,1,1,1,0,1,1,0,1,1,1,1,1,0,0,0,0,0,1,1,1,0,1,1,0,1],\n",
        "                 [1,1,0,1,1,1,0,0,0,1,0,0,0,1,1,0,1,1,1,1,1,0,1,0,0,0,1,1,1,0,1,1,0,1]\n",
        "                ]\n",
        "availability3 = [\n",
        "                 [1,0,0,0,0,0,0,0,0,1,1,1,0,1,1,0,1,1,1,1,1,0,1,0,0,0,1,1,1,0,1,1,0,1],\n",
        "                 [1,1,0,1,0,0,0,0,0,1,1,1,0,1,0,0,1,1,1,1,1,0,1,0,0,0,1,1,1,0,1,1,0,1],\n",
        "                 [1,0,0,0,0,0,0,0,0,1,1,1,1,1,1,0,1,1,1,1,1,0,1,0,0,0,1,1,1,0,1,1,0,1],\n",
        "                 [1,0,0,0,0,1,1,1,0,1,1,1,0,1,1,0,1,1,1,1,1,1,1,1,1,0,1,1,1,0,1,1,0,1],\n",
        "                 [1,0,1,1,0,0,0,0,0,1,1,1,0,1,1,0,1,0,0,0,1,0,1,0,0,0,0,0,1,0,1,1,0,1], \n",
        "                 [1,1,1,0,0,0,0,0,1,1,1,1,0,1,1,0,1,0,0,1,1,0,0,0,0,0,0,0,1,0,1,1,0,1],\n",
        "                 [1,1,0,1,1,0,0,0,0,1,1,1,0,1,1,0,1,0,0,0,1,0,1,0,0,0,1,1,1,0,1,1,0,1]\n",
        "                ]\n",
        "availability4 = [\n",
        "                 [1,0,0,0,0,0,0,0,0,1,1,1,0,1,1,0,1,1,1,1,1,0,1,0,0,0,1,1,1,0,1,1,0,1],\n",
        "                 [1,1,0,1,0,0,0,0,0,1,1,1,0,1,0,0,0,1,1,1,1,0,1,0,0,0,1,1,1,0,1,1,0,1],\n",
        "                 [1,0,0,0,0,0,0,0,0,1,1,1,1,1,1,0,0,0,1,1,1,0,1,0,0,0,1,1,1,0,1,1,0,1],\n",
        "                 [1,0,0,0,0,1,1,1,0,1,1,1,0,1,1,0,1,1,1,0,0,0,1,1,1,0,1,1,1,0,1,1,0,1],\n",
        "                 [1,0,1,1,0,0,0,0,0,0,0,1,0,1,1,0,1,0,0,0,1,0,1,0,0,0,0,0,1,0,1,1,0,1], \n",
        "                 [1,1,1,0,0,0,0,0,1,1,1,1,0,1,1,0,1,0,0,1,1,0,0,0,0,0,0,0,1,0,1,1,0,1],\n",
        "                 [0,0,0,1,1,0,0,0,0,1,1,1,0,1,1,0,1,0,0,0,1,0,1,0,0,0,1,1,1,0,0,1,0,1]\n",
        "                ]\n",
        "availability5 = [\n",
        "                 [1,0,0,0,0,0,0,0,0,1,1,1,0,1,1,0,1,1,1,1,1,0,1,0,0,0,1,1,1,0,1,1,0,1],\n",
        "                 [1,1,0,1,0,0,0,0,0,1,1,1,0,1,0,0,0,1,1,1,1,0,1,0,0,0,1,1,1,0,1,1,0,1],\n",
        "                 [1,0,0,0,0,0,0,0,0,1,1,1,1,1,1,0,0,0,1,1,1,0,1,0,0,0,1,1,1,0,1,1,0,1],\n",
        "                 [1,0,0,0,0,1,1,1,0,1,1,1,0,1,1,0,1,1,1,0,0,0,1,1,1,0,1,1,1,0,1,1,0,1],\n",
        "                 [1,0,1,1,0,0,0,0,0,0,0,1,0,1,1,0,1,0,0,0,1,0,1,0,0,0,0,0,1,0,1,1,0,1], \n",
        "                 [1,1,1,0,0,0,0,0,1,1,1,1,0,1,1,0,1,0,0,1,1,0,0,0,0,0,0,0,1,0,1,1,0,1],\n",
        "                 [0,0,0,1,1,0,0,0,0,1,1,1,0,1,1,0,1,0,0,0,1,0,1,0,0,0,1,1,1,0,0,1,0,1]\n",
        "                ]\n",
        "\n",
        "stud1 = Student('Sara', 'sara@gmail.com', problemDifficulty1, availability1)\n",
        "stud2 = Student('Will', 'will@gmail.com', problemDifficulty2, availability2)\n",
        "stud3 = Student('Joe', 'joe@gmail.com', problemDifficulty3, availability3)\n",
        "stud4 = Student('Steve', 'steve@gmail.com', problemDifficulty4, availability4) \n",
        "stud5 = Student('Ceyda', 'ceyda@gmail.com', problemDifficulty5, availability5)\n",
        "stud6 = Student('Sophia', 'sophia@gmail.com', problemDifficulty1, availability5)\n",
        "stud7 = Student('Uma', 'uma@gmail.com', problemDifficulty2, availability4)\n",
        "stud8 = Student('Naira', 'naira@gmail.com', problemDifficulty3, availability3)\n",
        "stud9 = Student('Qui', 'qui@gmail.com', problemDifficulty4, availability2) \n",
        "stud10 = Student('Bob', 'bob@gmail.com', problemDifficulty5, availability1)\n",
        "\n",
        "exampleClassData = [stud1, stud2, stud3, stud4, stud5, stud6, stud7, stud8, stud9, stud10]\n",
        "\n",
        "studExample = Student('Example', 'example@gmail.com', problemDifficulty4, availability4)\n",
        "#In more advanced model, data would be read in from a spreadsheet and edited on the spreadsheet. Availibility would be accessed from \n",
        "#google calendar using APIs. Data about current student would be read in from user inputs. "
      ],
      "execution_count": null,
      "outputs": []
    },
    {
      "cell_type": "code",
      "metadata": {
        "colab": {
          "base_uri": "https://localhost:8080/"
        },
        "id": "VptUeEv1Wumq",
        "outputId": "c2deeebb-e2e9-4d43-8ae6-5c318e2473ce"
      },
      "source": [
        "promptStudent(studExample, exampleClassData, 6)"
      ],
      "execution_count": null,
      "outputs": [
        {
          "output_type": "stream",
          "text": [
            "Do you want discuss homework with Will? They are available at\n",
            "Monday, 0.0:0\n",
            "Monday, 4.0:30\n",
            "Monday, 5.0:0\n",
            "This is how Will felt about this assignment:\n",
            "Problem #1 difficulty:1\n",
            "Problem #1 difficulty:1\n",
            "Problem #1 difficulty:1\n",
            "Problem #1 difficulty:4\n",
            "Problem #1 difficulty:4\n",
            "Problem #1 difficulty:4\n",
            "Email Will at will@gmail.com\n",
            "Do you want discuss homework with Uma? They are available at\n",
            "Monday, 0.0:0\n",
            "Monday, 4.0:30\n",
            "Monday, 5.0:0\n",
            "This is how Uma felt about this assignment:\n",
            "Problem #1 difficulty:1\n",
            "Problem #1 difficulty:1\n",
            "Problem #1 difficulty:1\n",
            "Problem #1 difficulty:4\n",
            "Problem #1 difficulty:4\n",
            "Problem #1 difficulty:4\n",
            "Email Uma at uma@gmail.com\n",
            "Do you want discuss homework with Joe? They are available at\n",
            "Monday, 0.0:0\n",
            "Monday, 4.0:30\n",
            "Monday, 5.0:0\n",
            "This is how Joe felt about this assignment:\n",
            "Problem #1 difficulty:4\n",
            "Problem #1 difficulty:4\n",
            "Problem #1 difficulty:4\n",
            "Problem #1 difficulty:1\n",
            "Problem #1 difficulty:1\n",
            "Problem #1 difficulty:1\n",
            "Email Joe at joe@gmail.com\n"
          ],
          "name": "stdout"
        }
      ]
    }
  ]
}